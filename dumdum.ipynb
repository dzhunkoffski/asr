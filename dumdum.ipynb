{
 "cells": [
  {
   "cell_type": "code",
   "execution_count": 21,
   "metadata": {},
   "outputs": [],
   "source": [
    "import sentencepiece as spm\n",
    "import glob\n",
    "\n",
    "train_datasets = ['data/datasets/librispeech/train-clean-100', 'data/datasets/librispeech/dev-clean']\n",
    "train_text_paths = []\n",
    "for train_dataset in train_datasets:\n",
    "    train_text_paths += glob.glob(f'{train_dataset}/**/*.txt', recursive=True)"
   ]
  },
  {
   "cell_type": "code",
   "execution_count": 22,
   "metadata": {},
   "outputs": [
    {
     "data": {
      "application/vnd.jupyter.widget-view+json": {
       "model_id": "e644c6d20d14456bb745ee900562f834",
       "version_major": 2,
       "version_minor": 0
      },
      "text/plain": [
       "  0%|          | 0/682 [00:00<?, ?it/s]"
      ]
     },
     "metadata": {},
     "output_type": "display_data"
    }
   ],
   "source": [
    "from tqdm.notebook import tqdm\n",
    "import re\n",
    "\n",
    "def normalize_text(text: str):\n",
    "    text = text.lower()\n",
    "    text = re.sub(r\"[^a-z ]\", \"\", text)\n",
    "    return text\n",
    "\n",
    "train_corpus = []\n",
    "for train_text_path in tqdm(train_text_paths):\n",
    "    with open(train_text_path, 'r') as fd:\n",
    "        for text in fd.readlines():\n",
    "            train_corpus.append(normalize_text(text))"
   ]
  },
  {
   "cell_type": "code",
   "execution_count": 23,
   "metadata": {},
   "outputs": [],
   "source": [
    "with open('your_file.txt', 'w') as f:\n",
    "    for line in train_corpus:\n",
    "        f.write(f\"{line[1:]}\\n\")"
   ]
  },
  {
   "cell_type": "code",
   "execution_count": 27,
   "metadata": {},
   "outputs": [
    {
     "name": "stderr",
     "output_type": "stream",
     "text": [
      "sentencepiece_trainer.cc(177) LOG(INFO) Running command: --input=your_file.txt --model_prefix=m_bpe --vocab_size=2000 --model_type=bpe --unk_id=0 --bos_id=-1 --eos_id=-1\n",
      "sentencepiece_trainer.cc(77) LOG(INFO) Starts training with : \n",
      "trainer_spec {\n",
      "  input: your_file.txt\n",
      "  input_format: \n",
      "  model_prefix: m_bpe\n",
      "  model_type: BPE\n",
      "  vocab_size: 2000\n",
      "  self_test_sample_size: 0\n",
      "  character_coverage: 0.9995\n",
      "  input_sentence_size: 0\n",
      "  shuffle_input_sentence: 1\n",
      "  seed_sentencepiece_size: 1000000\n",
      "  shrinking_factor: 0.75\n",
      "  max_sentence_length: 4192\n",
      "  num_threads: 16\n",
      "  num_sub_iterations: 2\n",
      "  max_sentencepiece_length: 16\n",
      "  split_by_unicode_script: 1\n",
      "  split_by_number: 1\n",
      "  split_by_whitespace: 1\n",
      "  split_digits: 0\n",
      "  pretokenization_delimiter: \n",
      "  treat_whitespace_as_suffix: 0\n",
      "  allow_whitespace_only_pieces: 0\n",
      "  required_chars: \n",
      "  byte_fallback: 0\n",
      "  vocabulary_output_piece_score: 1\n",
      "  train_extremely_large_corpus: 0\n",
      "  hard_vocab_limit: 1\n",
      "  use_all_vocab: 0\n",
      "  unk_id: 0\n",
      "  bos_id: -1\n",
      "  eos_id: -1\n",
      "  pad_id: -1\n",
      "  unk_piece: <unk>\n",
      "  bos_piece: <s>\n",
      "  eos_piece: </s>\n",
      "  pad_piece: <pad>\n",
      "  unk_surface:  ⁇ \n",
      "  enable_differential_privacy: 0\n",
      "  differential_privacy_noise_level: 0\n",
      "  differential_privacy_clipping_threshold: 0\n",
      "}\n",
      "normalizer_spec {\n",
      "  name: nmt_nfkc\n",
      "  add_dummy_prefix: 1\n",
      "  remove_extra_whitespaces: 1\n",
      "  escape_whitespaces: 1\n",
      "  normalization_rule_tsv: \n",
      "}\n",
      "denormalizer_spec {}\n",
      "trainer_interface.cc(351) LOG(INFO) SentenceIterator is not specified. Using MultiFileSentenceIterator.\n",
      "trainer_interface.cc(183) LOG(INFO) Loading corpus: your_file.txt\n",
      "trainer_interface.cc(407) LOG(INFO) Loaded all 31242 sentences\n",
      "trainer_interface.cc(423) LOG(INFO) Adding meta_piece: <unk>\n",
      "trainer_interface.cc(428) LOG(INFO) Normalizing sentences...\n",
      "trainer_interface.cc(537) LOG(INFO) all chars count=5579192\n",
      "trainer_interface.cc(548) LOG(INFO) Done: 99.9534% characters are covered.\n",
      "trainer_interface.cc(558) LOG(INFO) Alphabet size=26\n",
      "trainer_interface.cc(559) LOG(INFO) Final character coverage=0.999534\n",
      "trainer_interface.cc(591) LOG(INFO) Done! preprocessed 31242 sentences.\n",
      "trainer_interface.cc(597) LOG(INFO) Tokenizing input sentences with whitespace: 31242\n",
      "trainer_interface.cc(608) LOG(INFO) Done! 34303\n",
      "bpe_model_trainer.cc(159) LOG(INFO) Updating active symbols. max_freq=165799 min_freq=1\n",
      "bpe_model_trainer.cc(268) LOG(INFO) Added: freq=39181 size=20 all=1077 active=1050 piece=at\n",
      "bpe_model_trainer.cc(268) LOG(INFO) Added: freq=25320 size=40 all=2027 active=2000 piece=ll\n",
      "bpe_model_trainer.cc(268) LOG(INFO) Added: freq=12875 size=60 all=2863 active=2836 piece=se\n",
      "bpe_model_trainer.cc(268) LOG(INFO) Added: freq=10163 size=80 all=3930 active=3903 piece=ith\n",
      "bpe_model_trainer.cc(268) LOG(INFO) Added: freq=6919 size=100 all=4763 active=4736 piece=▁but\n",
      "bpe_model_trainer.cc(159) LOG(INFO) Updating active symbols. max_freq=6837 min_freq=439\n",
      "bpe_model_trainer.cc(268) LOG(INFO) Added: freq=5401 size=120 all=5640 active=1874 piece=all\n",
      "bpe_model_trainer.cc(268) LOG(INFO) Added: freq=4527 size=140 all=6285 active=2519 piece=▁con\n",
      "bpe_model_trainer.cc(268) LOG(INFO) Added: freq=3920 size=160 all=7172 active=3406 piece=▁no\n",
      "bpe_model_trainer.cc(268) LOG(INFO) Added: freq=3292 size=180 all=8120 active=4354 piece=ast\n",
      "bpe_model_trainer.cc(268) LOG(INFO) Added: freq=2927 size=200 all=8908 active=5142 piece=em\n",
      "bpe_model_trainer.cc(159) LOG(INFO) Updating active symbols. max_freq=2878 min_freq=410\n",
      "bpe_model_trainer.cc(268) LOG(INFO) Added: freq=2578 size=220 all=9934 active=1949 piece=ive\n",
      "bpe_model_trainer.cc(268) LOG(INFO) Added: freq=2359 size=240 all=10458 active=2473 piece=▁br\n",
      "bpe_model_trainer.cc(268) LOG(INFO) Added: freq=2129 size=260 all=11151 active=3166 piece=▁tim\n",
      "bpe_model_trainer.cc(268) LOG(INFO) Added: freq=1919 size=280 all=11796 active=3811 piece=way\n",
      "bpe_model_trainer.cc(268) LOG(INFO) Added: freq=1788 size=300 all=12484 active=4499 piece=are\n",
      "bpe_model_trainer.cc(159) LOG(INFO) Updating active symbols. max_freq=1784 min_freq=346\n",
      "bpe_model_trainer.cc(268) LOG(INFO) Added: freq=1672 size=320 all=13100 active=1559 piece=ish\n",
      "bpe_model_trainer.cc(268) LOG(INFO) Added: freq=1557 size=340 all=13577 active=2036 piece=▁two\n",
      "bpe_model_trainer.cc(268) LOG(INFO) Added: fre"
     ]
    },
    {
     "name": "stderr",
     "output_type": "stream",
     "text": [
      "q=1432 size=360 all=14220 active=2679 piece=▁thr\n",
      "bpe_model_trainer.cc(268) LOG(INFO) Added: freq=1344 size=380 all=14791 active=3250 piece=▁these\n",
      "bpe_model_trainer.cc(268) LOG(INFO) Added: freq=1243 size=400 all=15370 active=3829 piece=▁much\n",
      "bpe_model_trainer.cc(159) LOG(INFO) Updating active symbols. max_freq=1239 min_freq=304\n",
      "bpe_model_trainer.cc(268) LOG(INFO) Added: freq=1134 size=420 all=15798 active=1429 piece=▁own\n",
      "bpe_model_trainer.cc(268) LOG(INFO) Added: freq=1095 size=440 all=16340 active=1971 piece=▁car\n",
      "bpe_model_trainer.cc(268) LOG(INFO) Added: freq=1010 size=460 all=16811 active=2442 piece=ady\n",
      "bpe_model_trainer.cc(268) LOG(INFO) Added: freq=943 size=480 all=17367 active=2998 piece=▁eyes\n",
      "bpe_model_trainer.cc(268) LOG(INFO) Added: freq=886 size=500 all=17602 active=3233 piece=▁cons\n",
      "bpe_model_trainer.cc(159) LOG(INFO) Updating active symbols. max_freq=883 min_freq=268\n",
      "bpe_model_trainer.cc(268) LOG(INFO) Added: freq=826 size=520 all=18091 active=1475 piece=▁ind\n",
      "bpe_model_trainer.cc(268) LOG(INFO) Added: freq=777 size=540 all=18546 active=1930 piece=ix\n",
      "bpe_model_trainer.cc(268) LOG(INFO) Added: freq=748 size=560 all=18899 active=2283 piece=▁hu\n",
      "bpe_model_trainer.cc(268) LOG(INFO) Added: freq=721 size=580 all=19220 active=2604 piece=air\n",
      "bpe_model_trainer.cc(268) LOG(INFO) Added: freq=692 size=600 all=19463 active=2847 piece=▁love\n",
      "bpe_model_trainer.cc(159) LOG(INFO) Updating active symbols. max_freq=691 min_freq=240\n",
      "bpe_model_trainer.cc(268) LOG(INFO) Added: freq=669 size=620 all=19828 active=1362 piece=▁moment\n",
      "bpe_model_trainer.cc(268) LOG(INFO) Added: freq=637 size=640 all=20025 active=1559 piece=▁sw\n",
      "bpe_model_trainer.cc(268) LOG(INFO) Added: freq=611 size=660 all=20370 active=1904 piece=ual\n",
      "bpe_model_trainer.cc(268) LOG(INFO) Added: freq=588 size=680 all=20684 active=2218 piece=▁dre\n",
      "bpe_model_trainer.cc(268) LOG(INFO) Added: freq=572 size=700 all=21108 active=2642 piece=▁knew\n",
      "bpe_model_trainer.cc(159) LOG(INFO) Updating active symbols. max_freq=571 min_freq=212\n",
      "bpe_model_trainer.cc(268) LOG(INFO) Added: freq=553 size=720 all=21424 active=1372 piece=▁sil\n",
      "bpe_model_trainer.cc(268) LOG(INFO) Added: freq=536 size=740 all=21692 active=1640 piece=▁min\n",
      "bpe_model_trainer.cc(268) LOG(INFO) Added: freq=516 size=760 all=22027 active=1975 piece=▁add\n",
      "bpe_model_trainer.cc(268) LOG(INFO) Added: freq=505 size=780 all=22359 active=2307 piece=▁bu\n",
      "bpe_model_trainer.cc(268) LOG(INFO) Added: freq=491 size=800 all=22625 active=2573 piece=▁toward\n",
      "bpe_model_trainer.cc(159) LOG(INFO) Updating active symbols. max_freq=490 min_freq=183\n",
      "bpe_model_trainer.cc(268) LOG(INFO) Added: freq=477 size=820 all=22933 active=1439 piece=haps\n",
      "bpe_model_trainer.cc(268) LOG(INFO) Added: freq=466 size=840 all=23217 active=1723 piece=▁myself\n",
      "bpe_model_trainer.cc(268) LOG(INFO) Added: freq=450 size=860 all=23495 active=2001 piece=▁sou\n",
      "bpe_model_trainer.cc(268) LOG(INFO) Added: freq=439 size=880 all=23777 active=2283 piece=its\n",
      "bpe_model_trainer.cc(268) LOG(INFO) Added: freq=428 size=900 all=24050 active=2556 piece=▁contin\n",
      "bpe_model_trainer.cc(159) LOG(INFO) Updating active symbols. max_freq=426 min_freq=159\n",
      "bpe_model_trainer.cc(268) LOG(INFO) Added: freq=410 size=920 all=24352 active=1499 piece=▁stood\n",
      "bpe_model_trainer.cc(268) LOG(INFO) Added: freq=397 size=940 all=24578 active=1725 piece=▁five\n",
      "bpe_model_trainer.cc(268) LOG(INFO) Added: freq=383 size=960 all=25004 active=2151 piece=▁wi\n",
      "bpe_model_trainer.cc(268) LOG(INFO) Added: freq=376 size=980 all=25224 active=2371 piece=▁money\n",
      "bpe_model_trainer.cc(268) LOG(INFO) Added: freq=369 size=1000 all=25483 active=2630 piece=▁lau\n",
      "bpe_model_trainer.cc(159) LOG(INFO) Updating active symbols. max_freq=369 min_freq=143\n",
      "bpe_model_trainer.cc(268) LOG(INFO) Added: freq=359 size=1020 all=25858 active=1646 piece=▁death\n",
      "bpe_model_trainer.cc(268) LOG(INFO) Added: freq=348 size=1040 all=26066 active=1854 piece=oud\n",
      "bpe_model_trainer.cc(268) LOG(INFO) Added: freq=340 size=1060 all=26261 active=2049 piece=▁art\n",
      "bpe_model_trainer.cc(268) LOG(INFO) Added: freq=332 size=1080 all=26433 active=2221 piece=▁pri\n",
      "bpe_model_trainer.cc(268) LOG(INFO) Added: freq=322 size=1100 all=26539 active=2327 piece=ines\n",
      "bpe_model_trainer.cc(159) LOG(INFO) Updating active symbols. max_freq=322 min_freq=128\n",
      "bpe_model_trainer.cc(268) LOG(INFO) Added: freq=317 size=1120 all=26746 active=1497 piece=body\n",
      "bpe_model_trainer.cc(268) LOG(INFO) Added: freq=310 size=1140 all=26893 active=1644 piece=akes\n",
      "bpe_model_trainer.cc(268) LOG(INFO) Added: freq=303 size=1160 all=27114 active=1865 piece=▁expect\n",
      "bpe_model_trainer.cc(268) LOG(INFO) Added: freq=296 size=1180 all=27283 active=2034 piece=▁really\n",
      "bpe_model_trainer.cc(268) LOG(INFO) Added: freq=290 size=1200 all=27452 active=2203 piece=▁sometimes\n",
      "bpe_model_trainer.cc(159) LOG(INFO) Updating active symbols. max_freq=289 min_freq=119\n",
      "bpe_model_trainer.cc(268) LOG(INFO) Added: freq=282 size=1220 all=27627 active=1548 piece=ety\n",
      "bpe_model_trainer.cc(268) LOG(INFO) Added: freq=276 size=1240 all=27827 active=1748 piece=sy\n",
      "bpe_model_trainer.cc(268) LOG(INFO) Added: freq=270 size=1260 all=27996 active=1917 piece=▁manner\n",
      "bpe_model_trainer.cc(268) LOG(INFO) Added: freq=266 size=1280 all=28253 active=2174 piece=▁suddenly\n",
      "bpe_model_trainer.cc(268) LOG(INFO) Added: freq=260 size=1300 all=28352 active=2273 piece=ey\n",
      "bpe_model_trainer.cc(159) LOG(INFO) Updating active symbols. max_freq=260 min_freq=109\n",
      "bpe_model_trainer.cc(268) LOG(INFO) Added: freq=255 size=1320 all=28703 active=1750 piece=ient\n",
      "bpe_model_trainer.cc(268) LOG(INFO) Added: freq=251 size=1340 all=28952 active=1999 piece=▁imag\n",
      "bpe_model_trainer.cc(268) LOG(INFO) Added: freq=245 size=1360 all=29080 active=2127 piece=▁become\n",
      "bpe_model_trainer.cc(268) LOG(INFO) Added: freq=240 size=1380 all=29247 active=2294 piece=▁show\n",
      "bpe_model_trainer.cc(268) LOG(INFO) Added: freq=236 size=1400 all=29470 active=2517 piece=▁stra\n",
      "bpe_model_trainer.cc(159) LOG(INFO) Updating active symbols. max_freq=236 min_freq=100\n",
      "bpe_model_trainer.cc(268) LOG(INFO) Added: freq=232 size=1420 all=29586 active=1580 piece=une\n",
      "bpe_model_trainer.cc(268) LOG(INFO) Added: freq=229 size=1440 all=29811 active=1805 piece=▁boys\n",
      "bpe_model_trainer.cc(268) LOG(INFO) Added: freq=225 size=1460 all=29968 active=1962 piece=▁prince\n",
      "bpe_model_trainer.cc(268) LOG(INFO) Added: freq=221 size=1480 all=30115 active=2109 piece=riage\n",
      "bpe_model_trainer.cc(268) LOG(INFO) Added: freq=218 size=1500 all=30254 active=2248 piece=▁mem\n",
      "bpe_model_trainer.cc(159) LOG(INFO) Updating active symbols. max_freq=218 min_freq=93\n",
      "bpe_model_trainer.cc(268) LOG(INFO) Added: freq=215 size=1520 all=30414 active=1667 piece=▁although\n",
      "bpe_model_trainer.cc(268) LOG(INFO) Added: freq=211 size=1540 all=30630 active=1883 piece=ches\n",
      "bpe_model_trainer.cc(268) LOG(INFO) Added: freq=207 size=1560 all=30816 active=2069 piece=▁cra\n",
      "bpe_model_trainer.cc(268) LOG(INFO) Added: freq=203 size=1580 all=30972 active=2225 piece=▁da\n",
      "bpe_model_trainer.cc(268) LOG(INFO) Added: freq=200 size=1600 all=31139 active=2392 piece=▁soft\n",
      "bpe_model_trainer.cc(159) LOG(INFO) Updating active symbols. max_freq=200 min_freq=87\n",
      "bpe_model_trainer.cc(268) LOG(INFO) Added: freq=196 size=1620 all=31334 active=1748 piece=els\n",
      "bpe_model_trainer.cc(268) LOG(INFO) Added: freq=193 size=1640 all=31499 active=1913 piece=▁hot\n",
      "bpe_model_trainer.cc(268) LOG(INFO) Added: freq=190 size=1660 all=31672 active=2086 piece=▁pict\n",
      "bpe_model_trainer.cc(268) LOG(INFO) Added: freq=186 size=1680 all=31775 active=2189 piece=▁chief\n",
      "bpe_model_trainer.cc(268) LOG(INFO) Added: freq=182 size=1700 all=31939 active=2353 piece=▁pie\n",
      "bpe_model_trainer.cc(159) LOG(INFO) Updating active symbols. max_freq=182 min_freq=81\n",
      "bpe_model_trainer.cc(268) LOG(INFO) Added: freq=180 size=1720 all=32072 active=1727 piece=▁hat\n",
      "bpe_model_trainer.cc(268) LOG(INFO) Added: freq=178 size=1740 all=32255 active=1910 piece=▁opin\n",
      "bpe_model_trainer.cc(268) LOG(INFO) Added: freq=175 size=1760 all=32441 active=2096 piece=▁yourself\n",
      "bpe_model_trainer.cc(268) LOG(INFO) Added: freq=171 size=1780 all=32637 active=2292 piece=▁draw\n",
      "bpe_model_trainer.cc(268) LOG(INFO) Added: freq=168 size=1800 all=32762 active=2417 piece=▁main\n",
      "bpe_model_trainer.cc(159) LOG(INFO) Updating active symbols. max_freq=168 min_freq=76\n",
      "bpe_model_trainer.cc(268) LOG(INFO) Added: freq=166 size=1820 all=32863 active=1733 piece=▁recogn\n",
      "bpe_model_trainer.cc(268) LOG(INFO) Added: freq=162 size=1840 all=32996 active=1866 piece=ghed\n",
      "bpe_model_trainer.cc(268) LOG(INFO) Added: freq=160 size=1860 all=33162 active=2032 piece=abel\n",
      "bpe_model_trainer.cc(268) LOG(INFO) Added: freq=158 size=1880 all=33279 active=2149 piece=▁whate\n",
      "bpe_model_trainer.cc(268) LOG(INFO) Added: freq=156 size=1900 all=33455 active=2325 piece=▁rom\n",
      "bpe_model_trainer.cc(159) LOG(INFO) Updating active symbols. max_freq=156 min_freq=73\n",
      "bpe_model_trainer.cc(268) LOG(INFO) Added: freq=154 size=1920 all=33557 active=1768 piece=▁princi\n",
      "bpe_model_trainer.cc(268) LOG(INFO) Added: freq=152 size=1940 all=33650 active=1861 piece=▁horses\n",
      "bpe_model_trainer.cc(268) LOG(INFO) Added: freq=149 size=1960 all=33831 active=2042 piece=▁hyp\n",
      "trainer_interface.cc(686) LOG(INFO) Saving model: m_bpe.model\n",
      "trainer_interface.cc(698) LOG(INFO) Saving vocabs: m_bpe.vocab\n"
     ]
    }
   ],
   "source": [
    "spm.SentencePieceTrainer.train('--input=your_file.txt --model_prefix=m_bpe --vocab_size=2000 --model_type=bpe --unk_id=0 --bos_id=-1 --eos_id=-1')"
   ]
  },
  {
   "cell_type": "code",
   "execution_count": 28,
   "metadata": {},
   "outputs": [
    {
     "data": {
      "text/plain": [
       "True"
      ]
     },
     "execution_count": 28,
     "metadata": {},
     "output_type": "execute_result"
    }
   ],
   "source": [
    "sp_bpe = spm.SentencePieceProcessor()\n",
    "sp_bpe.load('m_bpe.model')"
   ]
  },
  {
   "cell_type": "code",
   "execution_count": 34,
   "metadata": {},
   "outputs": [],
   "source": [
    "a = [sp_bpe.id_to_piece(i).replace('_', '') for i in range(sp_bpe.get_piece_size())]"
   ]
  },
  {
   "cell_type": "code",
   "execution_count": 43,
   "metadata": {},
   "outputs": [
    {
     "data": {
      "text/plain": [
       "'t'"
      ]
     },
     "execution_count": 43,
     "metadata": {},
     "output_type": "execute_result"
    }
   ],
   "source": [
    "a[1].replace('▁', '')"
   ]
  },
  {
   "cell_type": "code",
   "execution_count": 17,
   "metadata": {},
   "outputs": [
    {
     "name": "stdout",
     "output_type": "stream",
     "text": [
      "['▁this', '▁is', '▁a', '▁t', 'est', '.']\n"
     ]
    }
   ],
   "source": [
    "print(sp_bpe.encode_as_pieces('this is a test.'))"
   ]
  },
  {
   "cell_type": "code",
   "execution_count": 16,
   "metadata": {},
   "outputs": [
    {
     "name": "stdout",
     "output_type": "stream",
     "text": [
      "[141, 99, 5, 3, 164, 0]\n"
     ]
    }
   ],
   "source": [
    "print(sp_bpe.encode_as_ids('this is a test.'))"
   ]
  }
 ],
 "metadata": {
  "kernelspec": {
   "display_name": ".venv",
   "language": "python",
   "name": "python3"
  },
  "language_info": {
   "codemirror_mode": {
    "name": "ipython",
    "version": 3
   },
   "file_extension": ".py",
   "mimetype": "text/x-python",
   "name": "python",
   "nbconvert_exporter": "python",
   "pygments_lexer": "ipython3",
   "version": "3.8.18"
  }
 },
 "nbformat": 4,
 "nbformat_minor": 2
}
