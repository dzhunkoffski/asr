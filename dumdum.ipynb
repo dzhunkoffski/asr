{
 "cells": [
  {
   "cell_type": "code",
   "execution_count": 2,
   "metadata": {},
   "outputs": [],
   "source": [
    "%load_ext autoreload\n",
    "%autoreload 2\n",
    "%reload_ext autoreload"
   ]
  },
  {
   "cell_type": "code",
   "execution_count": 50,
   "metadata": {},
   "outputs": [
    {
     "name": "stdout",
     "output_type": "stream",
     "text": [
      "before rnn torch.Size([10, 459, 1280])\n",
      "Output: torch.Size([10, 459, 29])\n"
     ]
    }
   ],
   "source": [
    "from hw_asr.model.deep_speech_v2 import DeepSpeechV2\n",
    "import torch\n",
    "\n",
    "model = DeepSpeechV2(n_feats=160, n_class=28)\n",
    "x = torch.rand(10, 160, 918)\n",
    "x = model(x)\n",
    "print('Output:', x.size())"
   ]
  },
  {
   "cell_type": "code",
   "execution_count": 45,
   "metadata": {},
   "outputs": [
    {
     "name": "stdout",
     "output_type": "stream",
     "text": [
      "160\n",
      "40960\n"
     ]
    }
   ],
   "source": [
    "in_feats = 160\n",
    "print(in_feats)\n",
    "in_feats = model.n_feats_after_conv(input_feats=in_feats)\n",
    "print(in_feats * 32)"
   ]
  }
 ],
 "metadata": {
  "kernelspec": {
   "display_name": ".venv",
   "language": "python",
   "name": "python3"
  },
  "language_info": {
   "codemirror_mode": {
    "name": "ipython",
    "version": 3
   },
   "file_extension": ".py",
   "mimetype": "text/x-python",
   "name": "python",
   "nbconvert_exporter": "python",
   "pygments_lexer": "ipython3",
   "version": "3.8.18"
  }
 },
 "nbformat": 4,
 "nbformat_minor": 2
}
